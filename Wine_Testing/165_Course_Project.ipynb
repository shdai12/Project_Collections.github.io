{
 "cells": [
  {
   "cell_type": "code",
   "execution_count": 1,
   "metadata": {},
   "outputs": [],
   "source": [
    "import pandas as pd\n",
    "import numpy as np\n",
    "import statsmodels.api as sm\n",
    "import matplotlib.pyplot as plt\n",
    "from sklearn.linear_model import Ridge\n",
    "from sklearn.linear_model import Lasso\n",
    "from sklearn.linear_model import ElasticNet\n",
    "from sklearn.model_selection import train_test_split\n",
    "from sklearn.metrics import mean_squared_error\n",
    "from sklearn.model_selection import KFold\n",
    "from sklearn import svm\n",
    "from sklearn.preprocessing import StandardScaler"
   ]
  },
  {
   "cell_type": "markdown",
   "metadata": {},
   "source": [
    "<font size=\"5\">Part 1 Modeling Wine Preferences</font>"
   ]
  },
  {
   "cell_type": "code",
   "execution_count": 3,
   "metadata": {},
   "outputs": [
    {
     "data": {
      "text/html": [
       "<div>\n",
       "<style scoped>\n",
       "    .dataframe tbody tr th:only-of-type {\n",
       "        vertical-align: middle;\n",
       "    }\n",
       "\n",
       "    .dataframe tbody tr th {\n",
       "        vertical-align: top;\n",
       "    }\n",
       "\n",
       "    .dataframe thead th {\n",
       "        text-align: right;\n",
       "    }\n",
       "</style>\n",
       "<table border=\"1\" class=\"dataframe\">\n",
       "  <thead>\n",
       "    <tr style=\"text-align: right;\">\n",
       "      <th></th>\n",
       "      <th>fixed acidity</th>\n",
       "      <th>volatile acidity</th>\n",
       "      <th>citric acid</th>\n",
       "      <th>residual sugar</th>\n",
       "      <th>chlorides</th>\n",
       "      <th>free sulfur dioxide</th>\n",
       "      <th>total sulfur dioxide</th>\n",
       "      <th>density</th>\n",
       "      <th>pH</th>\n",
       "      <th>sulphates</th>\n",
       "      <th>alcohol</th>\n",
       "      <th>quality</th>\n",
       "    </tr>\n",
       "  </thead>\n",
       "  <tbody>\n",
       "    <tr>\n",
       "      <th>0</th>\n",
       "      <td>7.4</td>\n",
       "      <td>0.70</td>\n",
       "      <td>0.00</td>\n",
       "      <td>1.9</td>\n",
       "      <td>0.076</td>\n",
       "      <td>11.0</td>\n",
       "      <td>34.0</td>\n",
       "      <td>0.9978</td>\n",
       "      <td>3.51</td>\n",
       "      <td>0.56</td>\n",
       "      <td>9.4</td>\n",
       "      <td>5</td>\n",
       "    </tr>\n",
       "    <tr>\n",
       "      <th>1</th>\n",
       "      <td>7.8</td>\n",
       "      <td>0.88</td>\n",
       "      <td>0.00</td>\n",
       "      <td>2.6</td>\n",
       "      <td>0.098</td>\n",
       "      <td>25.0</td>\n",
       "      <td>67.0</td>\n",
       "      <td>0.9968</td>\n",
       "      <td>3.20</td>\n",
       "      <td>0.68</td>\n",
       "      <td>9.8</td>\n",
       "      <td>5</td>\n",
       "    </tr>\n",
       "    <tr>\n",
       "      <th>2</th>\n",
       "      <td>7.8</td>\n",
       "      <td>0.76</td>\n",
       "      <td>0.04</td>\n",
       "      <td>2.3</td>\n",
       "      <td>0.092</td>\n",
       "      <td>15.0</td>\n",
       "      <td>54.0</td>\n",
       "      <td>0.9970</td>\n",
       "      <td>3.26</td>\n",
       "      <td>0.65</td>\n",
       "      <td>9.8</td>\n",
       "      <td>5</td>\n",
       "    </tr>\n",
       "    <tr>\n",
       "      <th>3</th>\n",
       "      <td>11.2</td>\n",
       "      <td>0.28</td>\n",
       "      <td>0.56</td>\n",
       "      <td>1.9</td>\n",
       "      <td>0.075</td>\n",
       "      <td>17.0</td>\n",
       "      <td>60.0</td>\n",
       "      <td>0.9980</td>\n",
       "      <td>3.16</td>\n",
       "      <td>0.58</td>\n",
       "      <td>9.8</td>\n",
       "      <td>6</td>\n",
       "    </tr>\n",
       "    <tr>\n",
       "      <th>4</th>\n",
       "      <td>7.4</td>\n",
       "      <td>0.70</td>\n",
       "      <td>0.00</td>\n",
       "      <td>1.9</td>\n",
       "      <td>0.076</td>\n",
       "      <td>11.0</td>\n",
       "      <td>34.0</td>\n",
       "      <td>0.9978</td>\n",
       "      <td>3.51</td>\n",
       "      <td>0.56</td>\n",
       "      <td>9.4</td>\n",
       "      <td>5</td>\n",
       "    </tr>\n",
       "  </tbody>\n",
       "</table>\n",
       "</div>"
      ],
      "text/plain": [
       "   fixed acidity  volatile acidity  citric acid  residual sugar  chlorides  \\\n",
       "0            7.4              0.70         0.00             1.9      0.076   \n",
       "1            7.8              0.88         0.00             2.6      0.098   \n",
       "2            7.8              0.76         0.04             2.3      0.092   \n",
       "3           11.2              0.28         0.56             1.9      0.075   \n",
       "4            7.4              0.70         0.00             1.9      0.076   \n",
       "\n",
       "   free sulfur dioxide  total sulfur dioxide  density    pH  sulphates  \\\n",
       "0                 11.0                  34.0   0.9978  3.51       0.56   \n",
       "1                 25.0                  67.0   0.9968  3.20       0.68   \n",
       "2                 15.0                  54.0   0.9970  3.26       0.65   \n",
       "3                 17.0                  60.0   0.9980  3.16       0.58   \n",
       "4                 11.0                  34.0   0.9978  3.51       0.56   \n",
       "\n",
       "   alcohol  quality  \n",
       "0      9.4        5  \n",
       "1      9.8        5  \n",
       "2      9.8        5  \n",
       "3      9.8        6  \n",
       "4      9.4        5  "
      ]
     },
     "execution_count": 3,
     "metadata": {},
     "output_type": "execute_result"
    }
   ],
   "source": [
    "wine = pd.read_csv(\"~/Downloads/winequality-red.csv\",  delimiter=';')\n",
    "wine.head()"
   ]
  },
  {
   "cell_type": "code",
   "execution_count": 4,
   "metadata": {},
   "outputs": [],
   "source": [
    "# Preprocessing: Specify the predictors, X, and a single response variable, y. \n",
    "# Split the entire dataset into training and test sets\n",
    "X = wine.iloc[:, 0:11]\n",
    "y = wine['quality']\n",
    "X_train, X_test, y_train, y_test = train_test_split(X, y, test_size=0.2)"
   ]
  },
  {
   "cell_type": "code",
   "execution_count": 5,
   "metadata": {},
   "outputs": [],
   "source": [
    "# Reset index for k fold cross validation\n",
    "X_train = X_train.reset_index(drop=True)\n",
    "y_train = y_train.reset_index(drop=True)"
   ]
  },
  {
   "cell_type": "code",
   "execution_count": 6,
   "metadata": {},
   "outputs": [
    {
     "data": {
      "text/html": [
       "<div>\n",
       "<style scoped>\n",
       "    .dataframe tbody tr th:only-of-type {\n",
       "        vertical-align: middle;\n",
       "    }\n",
       "\n",
       "    .dataframe tbody tr th {\n",
       "        vertical-align: top;\n",
       "    }\n",
       "\n",
       "    .dataframe thead th {\n",
       "        text-align: right;\n",
       "    }\n",
       "</style>\n",
       "<table border=\"1\" class=\"dataframe\">\n",
       "  <thead>\n",
       "    <tr style=\"text-align: right;\">\n",
       "      <th></th>\n",
       "      <th>fixed acidity</th>\n",
       "      <th>volatile acidity</th>\n",
       "      <th>citric acid</th>\n",
       "      <th>residual sugar</th>\n",
       "      <th>chlorides</th>\n",
       "      <th>free sulfur dioxide</th>\n",
       "      <th>total sulfur dioxide</th>\n",
       "      <th>density</th>\n",
       "      <th>pH</th>\n",
       "      <th>sulphates</th>\n",
       "      <th>alcohol</th>\n",
       "    </tr>\n",
       "  </thead>\n",
       "  <tbody>\n",
       "    <tr>\n",
       "      <th>0</th>\n",
       "      <td>7.4</td>\n",
       "      <td>0.70</td>\n",
       "      <td>0.00</td>\n",
       "      <td>1.9</td>\n",
       "      <td>0.076</td>\n",
       "      <td>11.0</td>\n",
       "      <td>34.0</td>\n",
       "      <td>0.9978</td>\n",
       "      <td>3.51</td>\n",
       "      <td>0.56</td>\n",
       "      <td>9.4</td>\n",
       "    </tr>\n",
       "    <tr>\n",
       "      <th>1</th>\n",
       "      <td>7.8</td>\n",
       "      <td>0.88</td>\n",
       "      <td>0.00</td>\n",
       "      <td>2.6</td>\n",
       "      <td>0.098</td>\n",
       "      <td>25.0</td>\n",
       "      <td>67.0</td>\n",
       "      <td>0.9968</td>\n",
       "      <td>3.20</td>\n",
       "      <td>0.68</td>\n",
       "      <td>9.8</td>\n",
       "    </tr>\n",
       "    <tr>\n",
       "      <th>2</th>\n",
       "      <td>7.8</td>\n",
       "      <td>0.76</td>\n",
       "      <td>0.04</td>\n",
       "      <td>2.3</td>\n",
       "      <td>0.092</td>\n",
       "      <td>15.0</td>\n",
       "      <td>54.0</td>\n",
       "      <td>0.9970</td>\n",
       "      <td>3.26</td>\n",
       "      <td>0.65</td>\n",
       "      <td>9.8</td>\n",
       "    </tr>\n",
       "    <tr>\n",
       "      <th>3</th>\n",
       "      <td>11.2</td>\n",
       "      <td>0.28</td>\n",
       "      <td>0.56</td>\n",
       "      <td>1.9</td>\n",
       "      <td>0.075</td>\n",
       "      <td>17.0</td>\n",
       "      <td>60.0</td>\n",
       "      <td>0.9980</td>\n",
       "      <td>3.16</td>\n",
       "      <td>0.58</td>\n",
       "      <td>9.8</td>\n",
       "    </tr>\n",
       "    <tr>\n",
       "      <th>4</th>\n",
       "      <td>7.4</td>\n",
       "      <td>0.70</td>\n",
       "      <td>0.00</td>\n",
       "      <td>1.9</td>\n",
       "      <td>0.076</td>\n",
       "      <td>11.0</td>\n",
       "      <td>34.0</td>\n",
       "      <td>0.9978</td>\n",
       "      <td>3.51</td>\n",
       "      <td>0.56</td>\n",
       "      <td>9.4</td>\n",
       "    </tr>\n",
       "  </tbody>\n",
       "</table>\n",
       "</div>"
      ],
      "text/plain": [
       "   fixed acidity  volatile acidity  citric acid  residual sugar  chlorides  \\\n",
       "0            7.4              0.70         0.00             1.9      0.076   \n",
       "1            7.8              0.88         0.00             2.6      0.098   \n",
       "2            7.8              0.76         0.04             2.3      0.092   \n",
       "3           11.2              0.28         0.56             1.9      0.075   \n",
       "4            7.4              0.70         0.00             1.9      0.076   \n",
       "\n",
       "   free sulfur dioxide  total sulfur dioxide  density    pH  sulphates  \\\n",
       "0                 11.0                  34.0   0.9978  3.51       0.56   \n",
       "1                 25.0                  67.0   0.9968  3.20       0.68   \n",
       "2                 15.0                  54.0   0.9970  3.26       0.65   \n",
       "3                 17.0                  60.0   0.9980  3.16       0.58   \n",
       "4                 11.0                  34.0   0.9978  3.51       0.56   \n",
       "\n",
       "   alcohol  \n",
       "0      9.4  \n",
       "1      9.8  \n",
       "2      9.8  \n",
       "3      9.8  \n",
       "4      9.4  "
      ]
     },
     "execution_count": 6,
     "metadata": {},
     "output_type": "execute_result"
    }
   ],
   "source": [
    "X.head()"
   ]
  },
  {
   "cell_type": "code",
   "execution_count": 7,
   "metadata": {},
   "outputs": [
    {
     "data": {
      "text/plain": [
       "0    5\n",
       "1    5\n",
       "2    5\n",
       "3    6\n",
       "4    5\n",
       "Name: quality, dtype: int64"
      ]
     },
     "execution_count": 7,
     "metadata": {},
     "output_type": "execute_result"
    }
   ],
   "source": [
    "y.head()"
   ]
  },
  {
   "cell_type": "markdown",
   "metadata": {},
   "source": [
    "<font size=\"4\">1. Ordinary least squares (OLS)</font>"
   ]
  },
  {
   "cell_type": "code",
   "execution_count": 8,
   "metadata": {},
   "outputs": [],
   "source": [
    "# Insert a column of constant term into X.\n",
    "X['constant'] = 1"
   ]
  },
  {
   "cell_type": "code",
   "execution_count": 9,
   "metadata": {},
   "outputs": [
    {
     "data": {
      "text/html": [
       "<table class=\"simpletable\">\n",
       "<caption>OLS Regression Results</caption>\n",
       "<tr>\n",
       "  <th>Dep. Variable:</th>         <td>quality</td>     <th>  R-squared:         </th> <td>   0.361</td> \n",
       "</tr>\n",
       "<tr>\n",
       "  <th>Model:</th>                   <td>OLS</td>       <th>  Adj. R-squared:    </th> <td>   0.356</td> \n",
       "</tr>\n",
       "<tr>\n",
       "  <th>Method:</th>             <td>Least Squares</td>  <th>  F-statistic:       </th> <td>   81.35</td> \n",
       "</tr>\n",
       "<tr>\n",
       "  <th>Date:</th>             <td>Tue, 07 May 2019</td> <th>  Prob (F-statistic):</th> <td>1.79e-145</td>\n",
       "</tr>\n",
       "<tr>\n",
       "  <th>Time:</th>                 <td>16:21:47</td>     <th>  Log-Likelihood:    </th> <td> -1569.1</td> \n",
       "</tr>\n",
       "<tr>\n",
       "  <th>No. Observations:</th>      <td>  1599</td>      <th>  AIC:               </th> <td>   3162.</td> \n",
       "</tr>\n",
       "<tr>\n",
       "  <th>Df Residuals:</th>          <td>  1587</td>      <th>  BIC:               </th> <td>   3227.</td> \n",
       "</tr>\n",
       "<tr>\n",
       "  <th>Df Model:</th>              <td>    11</td>      <th>                     </th>     <td> </td>    \n",
       "</tr>\n",
       "<tr>\n",
       "  <th>Covariance Type:</th>      <td>nonrobust</td>    <th>                     </th>     <td> </td>    \n",
       "</tr>\n",
       "</table>\n",
       "<table class=\"simpletable\">\n",
       "<tr>\n",
       "            <td></td>              <th>coef</th>     <th>std err</th>      <th>t</th>      <th>P>|t|</th>  <th>[0.025</th>    <th>0.975]</th>  \n",
       "</tr>\n",
       "<tr>\n",
       "  <th>fixed acidity</th>        <td>    0.0250</td> <td>    0.026</td> <td>    0.963</td> <td> 0.336</td> <td>   -0.026</td> <td>    0.076</td>\n",
       "</tr>\n",
       "<tr>\n",
       "  <th>volatile acidity</th>     <td>   -1.0836</td> <td>    0.121</td> <td>   -8.948</td> <td> 0.000</td> <td>   -1.321</td> <td>   -0.846</td>\n",
       "</tr>\n",
       "<tr>\n",
       "  <th>citric acid</th>          <td>   -0.1826</td> <td>    0.147</td> <td>   -1.240</td> <td> 0.215</td> <td>   -0.471</td> <td>    0.106</td>\n",
       "</tr>\n",
       "<tr>\n",
       "  <th>residual sugar</th>       <td>    0.0163</td> <td>    0.015</td> <td>    1.089</td> <td> 0.276</td> <td>   -0.013</td> <td>    0.046</td>\n",
       "</tr>\n",
       "<tr>\n",
       "  <th>chlorides</th>            <td>   -1.8742</td> <td>    0.419</td> <td>   -4.470</td> <td> 0.000</td> <td>   -2.697</td> <td>   -1.052</td>\n",
       "</tr>\n",
       "<tr>\n",
       "  <th>free sulfur dioxide</th>  <td>    0.0044</td> <td>    0.002</td> <td>    2.009</td> <td> 0.045</td> <td>    0.000</td> <td>    0.009</td>\n",
       "</tr>\n",
       "<tr>\n",
       "  <th>total sulfur dioxide</th> <td>   -0.0033</td> <td>    0.001</td> <td>   -4.480</td> <td> 0.000</td> <td>   -0.005</td> <td>   -0.002</td>\n",
       "</tr>\n",
       "<tr>\n",
       "  <th>density</th>              <td>  -17.8812</td> <td>   21.633</td> <td>   -0.827</td> <td> 0.409</td> <td>  -60.314</td> <td>   24.551</td>\n",
       "</tr>\n",
       "<tr>\n",
       "  <th>pH</th>                   <td>   -0.4137</td> <td>    0.192</td> <td>   -2.159</td> <td> 0.031</td> <td>   -0.789</td> <td>   -0.038</td>\n",
       "</tr>\n",
       "<tr>\n",
       "  <th>sulphates</th>            <td>    0.9163</td> <td>    0.114</td> <td>    8.014</td> <td> 0.000</td> <td>    0.692</td> <td>    1.141</td>\n",
       "</tr>\n",
       "<tr>\n",
       "  <th>alcohol</th>              <td>    0.2762</td> <td>    0.026</td> <td>   10.429</td> <td> 0.000</td> <td>    0.224</td> <td>    0.328</td>\n",
       "</tr>\n",
       "<tr>\n",
       "  <th>constant</th>             <td>   21.9652</td> <td>   21.195</td> <td>    1.036</td> <td> 0.300</td> <td>  -19.607</td> <td>   63.538</td>\n",
       "</tr>\n",
       "</table>\n",
       "<table class=\"simpletable\">\n",
       "<tr>\n",
       "  <th>Omnibus:</th>       <td>27.376</td> <th>  Durbin-Watson:     </th> <td>   1.757</td>\n",
       "</tr>\n",
       "<tr>\n",
       "  <th>Prob(Omnibus):</th> <td> 0.000</td> <th>  Jarque-Bera (JB):  </th> <td>  40.965</td>\n",
       "</tr>\n",
       "<tr>\n",
       "  <th>Skew:</th>          <td>-0.168</td> <th>  Prob(JB):          </th> <td>1.27e-09</td>\n",
       "</tr>\n",
       "<tr>\n",
       "  <th>Kurtosis:</th>      <td> 3.708</td> <th>  Cond. No.          </th> <td>1.13e+05</td>\n",
       "</tr>\n",
       "</table><br/><br/>Warnings:<br/>[1] Standard Errors assume that the covariance matrix of the errors is correctly specified.<br/>[2] The condition number is large, 1.13e+05. This might indicate that there are<br/>strong multicollinearity or other numerical problems."
      ],
      "text/plain": [
       "<class 'statsmodels.iolib.summary.Summary'>\n",
       "\"\"\"\n",
       "                            OLS Regression Results                            \n",
       "==============================================================================\n",
       "Dep. Variable:                quality   R-squared:                       0.361\n",
       "Model:                            OLS   Adj. R-squared:                  0.356\n",
       "Method:                 Least Squares   F-statistic:                     81.35\n",
       "Date:                Tue, 07 May 2019   Prob (F-statistic):          1.79e-145\n",
       "Time:                        16:21:47   Log-Likelihood:                -1569.1\n",
       "No. Observations:                1599   AIC:                             3162.\n",
       "Df Residuals:                    1587   BIC:                             3227.\n",
       "Df Model:                          11                                         \n",
       "Covariance Type:            nonrobust                                         \n",
       "========================================================================================\n",
       "                           coef    std err          t      P>|t|      [0.025      0.975]\n",
       "----------------------------------------------------------------------------------------\n",
       "fixed acidity            0.0250      0.026      0.963      0.336      -0.026       0.076\n",
       "volatile acidity        -1.0836      0.121     -8.948      0.000      -1.321      -0.846\n",
       "citric acid             -0.1826      0.147     -1.240      0.215      -0.471       0.106\n",
       "residual sugar           0.0163      0.015      1.089      0.276      -0.013       0.046\n",
       "chlorides               -1.8742      0.419     -4.470      0.000      -2.697      -1.052\n",
       "free sulfur dioxide      0.0044      0.002      2.009      0.045       0.000       0.009\n",
       "total sulfur dioxide    -0.0033      0.001     -4.480      0.000      -0.005      -0.002\n",
       "density                -17.8812     21.633     -0.827      0.409     -60.314      24.551\n",
       "pH                      -0.4137      0.192     -2.159      0.031      -0.789      -0.038\n",
       "sulphates                0.9163      0.114      8.014      0.000       0.692       1.141\n",
       "alcohol                  0.2762      0.026     10.429      0.000       0.224       0.328\n",
       "constant                21.9652     21.195      1.036      0.300     -19.607      63.538\n",
       "==============================================================================\n",
       "Omnibus:                       27.376   Durbin-Watson:                   1.757\n",
       "Prob(Omnibus):                  0.000   Jarque-Bera (JB):               40.965\n",
       "Skew:                          -0.168   Prob(JB):                     1.27e-09\n",
       "Kurtosis:                       3.708   Cond. No.                     1.13e+05\n",
       "==============================================================================\n",
       "\n",
       "Warnings:\n",
       "[1] Standard Errors assume that the covariance matrix of the errors is correctly specified.\n",
       "[2] The condition number is large, 1.13e+05. This might indicate that there are\n",
       "strong multicollinearity or other numerical problems.\n",
       "\"\"\""
      ]
     },
     "execution_count": 9,
     "metadata": {},
     "output_type": "execute_result"
    }
   ],
   "source": [
    "# Create and fit regression model.\n",
    "mod = sm.OLS(y, X).fit()\n",
    "mod.summary()"
   ]
  },
  {
   "cell_type": "markdown",
   "metadata": {},
   "source": [
    "<font size=\"4\">2. Ridge Regression (RR)</font>"
   ]
  },
  {
   "cell_type": "code",
   "execution_count": 10,
   "metadata": {},
   "outputs": [
    {
     "data": {
      "text/plain": [
       "[0.4232039646693998,\n",
       " 0.4231506015902179,\n",
       " 0.4227089572124204,\n",
       " 0.42216058544653556,\n",
       " 0.454848669399558,\n",
       " 0.5822780356258365]"
      ]
     },
     "execution_count": 10,
     "metadata": {},
     "output_type": "execute_result"
    }
   ],
   "source": [
    "# Set different values of tuning parameters to be tested\n",
    "alpha_ridge = [1e-4, 1e-3, 1e-2, 1e-1, 1, 10]\n",
    "\n",
    "# Use k-fold cross-validation to select the best tuning parameter\n",
    "k = 5\n",
    "kf = KFold(n_splits=k)\n",
    "ridge_cv_errors = []\n",
    "\n",
    "for alpha in alpha_ridge:\n",
    "    ridge_cv_error = 0\n",
    "    ridge_mod = Ridge(alpha=alpha, normalize=True)\n",
    "    for train_index, test_index in kf.split(X_train):\n",
    "        Xval_train, Xval_test = X_train.iloc[train_index], X_train.iloc[test_index]\n",
    "        yval_train, yval_test = y_train[train_index], y_train[test_index]\n",
    "        ridge_mod.fit(Xval_train, yval_train)\n",
    "        yval_pred = ridge_mod.predict(Xval_test)\n",
    "        ridge_cv_error += mean_squared_error(yval_pred, yval_test)\n",
    "    ridge_cv_errors.append(ridge_cv_error/k)\n",
    "ridge_cv_errors"
   ]
  },
  {
   "cell_type": "code",
   "execution_count": 11,
   "metadata": {},
   "outputs": [
    {
     "data": {
      "image/png": "[encoded data removed]",
      "text/plain": [
       "<Figure size 432x288 with 1 Axes>"
      ]
     },
     "metadata": {
      "needs_background": "light"
     },
     "output_type": "display_data"
    }
   ],
   "source": [
    "# Plot of tuning parameters vs cross validation error\n",
    "plt.figure()\n",
    "plt.xlabel(\"log tuning parameter\")\n",
    "plt.ylabel('cross validation error')\n",
    "plt.plot(np.log10(alpha_ridge), ridge_cv_errors)\n",
    "plt.title(\"log tuning parameter vs cross validation error for ridge regression\")\n",
    "plt.show()"
   ]
  },
  {
   "cell_type": "code",
   "execution_count": 12,
   "metadata": {},
   "outputs": [
    {
     "name": "stdout",
     "output_type": "stream",
     "text": [
      "Mininum corss-validation error is 0.42216058544653556\n"
     ]
    }
   ],
   "source": [
    "min_error = min(ridge_cv_errors)\n",
    "print(\"Mininum corss-validation error is \" + str(min_error))"
   ]
  },
  {
   "cell_type": "code",
   "execution_count": 13,
   "metadata": {},
   "outputs": [
    {
     "data": {
      "text/plain": [
       "0.1"
      ]
     },
     "execution_count": 13,
     "metadata": {},
     "output_type": "execute_result"
    }
   ],
   "source": [
    "# best tuning parameter alpha that minimizes error\n",
    "ridge_alpha_star = alpha_ridge[ridge_cv_errors.index(min(ridge_cv_errors))]\n",
    "ridge_alpha_star"
   ]
  },
  {
   "cell_type": "code",
   "execution_count": 14,
   "metadata": {},
   "outputs": [
    {
     "data": {
      "text/plain": [
       "array([ 0.02264188, -1.05421816, -0.2979905 ,  0.00907543, -1.79741479,\n",
       "        0.00508981, -0.00335932, -0.28792004, -0.3703015 ,  0.96664646,\n",
       "        0.29339518])"
      ]
     },
     "execution_count": 14,
     "metadata": {},
     "output_type": "execute_result"
    }
   ],
   "source": [
    "# Fit the ridge regression model on the entire training set and get its coefficients\n",
    "ridge_model = Ridge(alpha = ridge_alpha_star).fit(X_train, y_train)\n",
    "ridge_model.coef_"
   ]
  },
  {
   "cell_type": "code",
   "execution_count": 15,
   "metadata": {},
   "outputs": [
    {
     "data": {
      "text/plain": [
       "4.103697661927534"
      ]
     },
     "execution_count": 15,
     "metadata": {},
     "output_type": "execute_result"
    }
   ],
   "source": [
    "# intercept of the ridge regression model\n",
    "ridge_model.intercept_"
   ]
  },
  {
   "cell_type": "code",
   "execution_count": 16,
   "metadata": {},
   "outputs": [
    {
     "data": {
      "text/plain": [
       "0.36560855032947437"
      ]
     },
     "execution_count": 16,
     "metadata": {},
     "output_type": "execute_result"
    }
   ],
   "source": [
    "# test the accuracy of the model on our test set\n",
    "ridge_model.score(X_test, y_test)"
   ]
  },
  {
   "cell_type": "markdown",
   "metadata": {},
   "source": [
    "<font size=\"4\">3. Lasso Regression</font>"
   ]
  },
  {
   "cell_type": "code",
   "execution_count": 17,
   "metadata": {},
   "outputs": [
    {
     "data": {
      "text/plain": [
       "[0.4232099695657808,\n",
       " 0.4231694499031443,\n",
       " 0.42338535077899897,\n",
       " 0.42755253489694256,\n",
       " 0.5957839333882375,\n",
       " 0.6407190885614846,\n",
       " 0.6407190885614846]"
      ]
     },
     "execution_count": 17,
     "metadata": {},
     "output_type": "execute_result"
    }
   ],
   "source": [
    "# Set different values of tuning parameters to be tested\n",
    "alpha_lasso = [1e-8, 1e-5, 1e-4, 1e-3, 1e-2, 1, 10]\n",
    "\n",
    "# Use k-fold cross-validation to select the best tuning parameter\n",
    "k = 5\n",
    "kf = KFold(n_splits=k)\n",
    "lasso_cv_errors = []\n",
    "\n",
    "for alpha in alpha_lasso:\n",
    "    lasso_cv_error = 0\n",
    "    lasso_mod = Lasso(alpha=alpha, normalize=True)\n",
    "    for train_index, test_index in kf.split(X_train):\n",
    "        Xval_train, Xval_test = X_train.iloc[train_index], X_train.iloc[test_index]\n",
    "        yval_train, yval_test = y_train[train_index], y_train[test_index]\n",
    "        lasso_mod.fit(Xval_train, yval_train)\n",
    "        yval_pred = lasso_mod.predict(Xval_test)\n",
    "        lasso_cv_error += mean_squared_error(yval_pred, yval_test)\n",
    "    lasso_cv_errors.append(lasso_cv_error/k)\n",
    "lasso_cv_errors"
   ]
  },
  {
   "cell_type": "code",
   "execution_count": 18,
   "metadata": {},
   "outputs": [
    {
     "data": {
      "image/png": "[encoded data removed]",
      "text/plain": [
       "<Figure size 432x288 with 1 Axes>"
      ]
     },
     "metadata": {
      "needs_background": "light"
     },
     "output_type": "display_data"
    }
   ],
   "source": [
    "# Plot of tuning parameter vs cross validation error\n",
    "plt.figure()\n",
    "plt.xlabel(\"log tuning parameter\")\n",
    "plt.ylabel('cross validation error')\n",
    "plt.plot(np.log10(alpha_lasso), lasso_cv_errors)\n",
    "plt.title(\"log tuning parameter vs cross validation error for lasso regression\")\n",
    "plt.show()"
   ]
  },
  {
   "cell_type": "code",
   "execution_count": 19,
   "metadata": {},
   "outputs": [
    {
     "name": "stdout",
     "output_type": "stream",
     "text": [
      "Mininum corss-validation error is 0.4231694499031443\n"
     ]
    }
   ],
   "source": [
    "min_error = min(lasso_cv_errors)\n",
    "print(\"Mininum corss-validation error is \" + str(min_error))"
   ]
  },
  {
   "cell_type": "code",
   "execution_count": 20,
   "metadata": {},
   "outputs": [
    {
     "data": {
      "text/plain": [
       "1e-05"
      ]
     },
     "execution_count": 20,
     "metadata": {},
     "output_type": "execute_result"
    }
   ],
   "source": [
    "# best tuning parameter alpha that minimizes error\n",
    "lasso_alpha_star = alpha_lasso[lasso_cv_errors.index(min(lasso_cv_errors))]\n",
    "lasso_alpha_star"
   ]
  },
  {
   "cell_type": "code",
   "execution_count": 21,
   "metadata": {},
   "outputs": [
    {
     "data": {
      "text/plain": [
       "array([ 4.25628749e-02, -1.03201396e+00, -2.91420976e-01,  1.83853399e-02,\n",
       "       -1.84447527e+00,  4.89059040e-03, -3.29959813e-03, -2.22201283e+01,\n",
       "       -2.70696551e-01,  1.00897417e+00,  2.72734521e-01])"
      ]
     },
     "execution_count": 21,
     "metadata": {},
     "output_type": "execute_result"
    }
   ],
   "source": [
    "# Fit the lasso regression model on the entire training set and get its coefficients\n",
    "lasso_model = Lasso(alpha = lasso_alpha_star).fit(X_train, y_train)\n",
    "lasso_model.coef_"
   ]
  },
  {
   "cell_type": "code",
   "execution_count": 22,
   "metadata": {},
   "outputs": [
    {
     "data": {
      "text/plain": [
       "25.624083670223094"
      ]
     },
     "execution_count": 22,
     "metadata": {},
     "output_type": "execute_result"
    }
   ],
   "source": [
    "lasso_model.intercept_"
   ]
  },
  {
   "cell_type": "code",
   "execution_count": 23,
   "metadata": {},
   "outputs": [
    {
     "data": {
      "text/plain": [
       "0.36281349321480805"
      ]
     },
     "execution_count": 23,
     "metadata": {},
     "output_type": "execute_result"
    }
   ],
   "source": [
    "# test the accuracy of the model on our test set\n",
    "lasso_model.score(X_test, y_test)"
   ]
  },
  {
   "cell_type": "markdown",
   "metadata": {},
   "source": [
    "<font size=\"4\">4. Elastic Net</font>"
   ]
  },
  {
   "cell_type": "code",
   "execution_count": 24,
   "metadata": {},
   "outputs": [],
   "source": [
    "# Set different values of alpha and l1_ratio parameters to be tested\n",
    "alpha_elasticnet = [1e-5, 1e-4, 1e-3, 1e-2, 1e-1, 1, 10]\n",
    "l1_ratios = [.1, .5, .7, .9, .95, .99, 1]"
   ]
  },
  {
   "cell_type": "code",
   "execution_count": 25,
   "metadata": {},
   "outputs": [
    {
     "data": {
      "text/plain": [
       "[[0.4227433147048618,\n",
       "  0.4229140171038151,\n",
       "  0.423010719498606,\n",
       "  0.423114552304395,\n",
       "  0.423141789034843,\n",
       "  0.4231638922179054,\n",
       "  0.4231694499031443],\n",
       " [0.4221486332583034,\n",
       "  0.42221979087891903,\n",
       "  0.4224833594027314,\n",
       "  0.42304120144032986,\n",
       "  0.42320562728280675,\n",
       "  0.4233487669355223,\n",
       "  0.42338535077899897],\n",
       " [0.4532683138267169,\n",
       "  0.44164674634012185,\n",
       "  0.4349862842799803,\n",
       "  0.42938584611481795,\n",
       "  0.4283130884636287,\n",
       "  0.42767355616216635,\n",
       "  0.42755253489694256],\n",
       " [0.5860221264825913,\n",
       "  0.6005591749119038,\n",
       "  0.603170047683096,\n",
       "  0.605314668418689,\n",
       "  0.6028867563786712,\n",
       "  0.597720851479255,\n",
       "  0.5957839333882375],\n",
       " [0.6401924527774996,\n",
       "  0.6407190885614846,\n",
       "  0.6407190885614846,\n",
       "  0.6407190885614846,\n",
       "  0.6407190885614846,\n",
       "  0.6407190885614846,\n",
       "  0.6407190885614846],\n",
       " [0.6407190885614846,\n",
       "  0.6407190885614846,\n",
       "  0.6407190885614846,\n",
       "  0.6407190885614846,\n",
       "  0.6407190885614846,\n",
       "  0.6407190885614846,\n",
       "  0.6407190885614846],\n",
       " [0.6407190885614846,\n",
       "  0.6407190885614846,\n",
       "  0.6407190885614846,\n",
       "  0.6407190885614846,\n",
       "  0.6407190885614846,\n",
       "  0.6407190885614846,\n",
       "  0.6407190885614846]]"
      ]
     },
     "execution_count": 25,
     "metadata": {},
     "output_type": "execute_result"
    }
   ],
   "source": [
    "# Use k-fold cross-validation to select the best tuning parameters\n",
    "k = 5\n",
    "kf = KFold(n_splits=k)\n",
    "elastic_cv_errors = []\n",
    "\n",
    "for alpha in alpha_elasticnet:\n",
    "    elastic_cv_error_per_alpha = []\n",
    "    for l1_ratio in l1_ratios:\n",
    "        elastic_mod = ElasticNet(alpha=alpha, l1_ratio=l1_ratio, normalize=True)\n",
    "        l1_score = 0\n",
    "        for train_index, test_index in kf.split(X_train):\n",
    "            Xval_train, Xval_test = X_train.iloc[train_index], X_train.iloc[test_index]\n",
    "            yval_train, yval_test = y_train[train_index], y_train[test_index]\n",
    "            elastic_mod.fit(Xval_train, yval_train)\n",
    "            yval_pred = elastic_mod.predict(Xval_test)\n",
    "            l1_score += mean_squared_error(yval_pred, yval_test)\n",
    "        elastic_cv_error_per_alpha.append(l1_score/k)\n",
    "    elastic_cv_errors.append(elastic_cv_error_per_alpha)\n",
    "elastic_cv_errors"
   ]
  },
  {
   "cell_type": "code",
   "execution_count": 26,
   "metadata": {},
   "outputs": [
    {
     "data": {
      "image/png": "[encoded data removed]",
      "text/plain": [
       "<Figure size 432x288 with 1 Axes>"
      ]
     },
     "metadata": {
      "needs_background": "light"
     },
     "output_type": "display_data"
    }
   ],
   "source": [
    "plt.figure()\n",
    "plt.xlabel(\"log tuning parameter\")\n",
    "plt.ylabel('cross validation error')\n",
    "plt.plot(np.log10(alpha_elasticnet), elastic_cv_errors)\n",
    "plt.legend(alpha_elasticnet)\n",
    "plt.title(\"log tuning parameter vs cross validation error for lasso regression\")\n",
    "plt.show()"
   ]
  },
  {
   "cell_type": "code",
   "execution_count": 27,
   "metadata": {},
   "outputs": [],
   "source": [
    "# flatten the list of list errors in order to find the minimum error\n",
    "flattened_errors = np.array(elastic_cv_errors).flatten()"
   ]
  },
  {
   "cell_type": "code",
   "execution_count": 28,
   "metadata": {},
   "outputs": [
    {
     "data": {
      "image/png": "[encoded data removed]",
      "text/plain": [
       "<Figure size 432x288 with 1 Axes>"
      ]
     },
     "metadata": {
      "needs_background": "light"
     },
     "output_type": "display_data"
    }
   ],
   "source": [
    "from mpl_toolkits.mplot3d import Axes3D\n",
    "threed = plt.figure().gca(projection='3d')\n",
    "threed.scatter(alpha_elasticnet * len(l1_ratios), l1_ratios * len(alpha_elasticnet), flattened_errors)\n",
    "threed.set_xlabel('Alpha')\n",
    "threed.set_ylabel('L1_ratio')\n",
    "threed.set_zlabel('Cross Validation Error')\n",
    "plt.show()"
   ]
  },
  {
   "cell_type": "code",
   "execution_count": 29,
   "metadata": {},
   "outputs": [
    {
     "name": "stdout",
     "output_type": "stream",
     "text": [
      "Mininum corss-validation error is 0.4221486332583034\n"
     ]
    }
   ],
   "source": [
    "min_error = min(flattened_errors)\n",
    "print(\"Mininum corss-validation error is \" + str(min_error))"
   ]
  },
  {
   "cell_type": "code",
   "execution_count": 30,
   "metadata": {},
   "outputs": [
    {
     "name": "stdout",
     "output_type": "stream",
     "text": [
      "0.0001 0.1\n"
     ]
    }
   ],
   "source": [
    "# best tuning parameters alpha and l1_ratio that minimize error\n",
    "alpha_index, l1_ratio_index = np.unravel_index(np.argmin(elastic_cv_errors), np.array(elastic_cv_errors).shape)\n",
    "elastic_alpha_star, elastic_l1_ratio_star = alpha_elasticnet[alpha_index], l1_ratios[l1_ratio_index]\n",
    "print(elastic_alpha_star, elastic_l1_ratio_star)"
   ]
  },
  {
   "cell_type": "code",
   "execution_count": 31,
   "metadata": {},
   "outputs": [
    {
     "data": {
      "text/plain": [
       "array([ 4.21814303e-02, -8.95486548e-01, -6.60468353e-02,  2.10649079e-02,\n",
       "       -1.71150714e+00,  3.57121174e-03, -2.98518574e-03, -3.81267494e+01,\n",
       "       -1.41166251e-01,  9.18182713e-01,  2.31496777e-01])"
      ]
     },
     "execution_count": 31,
     "metadata": {},
     "output_type": "execute_result"
    }
   ],
   "source": [
    "# Fit the elastic net model on the entire training set and get its coefficients\n",
    "elastic_model = ElasticNet(alpha=elastic_alpha_star, l1_ratio=elastic_l1_ratio_star, normalize=True).fit(X_train, y_train)\n",
    "elastic_model.coef_"
   ]
  },
  {
   "cell_type": "code",
   "execution_count": 32,
   "metadata": {},
   "outputs": [
    {
     "data": {
      "text/plain": [
       "41.39761835820917"
      ]
     },
     "execution_count": 32,
     "metadata": {},
     "output_type": "execute_result"
    }
   ],
   "source": [
    "elastic_model.intercept_"
   ]
  },
  {
   "cell_type": "code",
   "execution_count": 33,
   "metadata": {},
   "outputs": [
    {
     "data": {
      "text/plain": [
       "0.36201015390669344"
      ]
     },
     "execution_count": 33,
     "metadata": {},
     "output_type": "execute_result"
    }
   ],
   "source": [
    "# test the accuracy of the model on our test set\n",
    "elastic_model.score(X_test, y_test)"
   ]
  },
  {
   "cell_type": "raw",
   "metadata": {},
   "source": []
  },
  {
   "cell_type": "raw",
   "metadata": {},
   "source": []
  },
  {
   "cell_type": "raw",
   "metadata": {},
   "source": []
  },
  {
   "cell_type": "markdown",
   "metadata": {},
   "source": [
    "<font size=\"5\">Part 2 Modeling Annual Spending on Products</font>"
   ]
  },
  {
   "cell_type": "code",
   "execution_count": 34,
   "metadata": {},
   "outputs": [
    {
     "data": {
      "text/html": [
       "<div>\n",
       "<style scoped>\n",
       "    .dataframe tbody tr th:only-of-type {\n",
       "        vertical-align: middle;\n",
       "    }\n",
       "\n",
       "    .dataframe tbody tr th {\n",
       "        vertical-align: top;\n",
       "    }\n",
       "\n",
       "    .dataframe thead th {\n",
       "        text-align: right;\n",
       "    }\n",
       "</style>\n",
       "<table border=\"1\" class=\"dataframe\">\n",
       "  <thead>\n",
       "    <tr style=\"text-align: right;\">\n",
       "      <th></th>\n",
       "      <th>Channel</th>\n",
       "      <th>Region</th>\n",
       "      <th>Fresh</th>\n",
       "      <th>Milk</th>\n",
       "      <th>Grocery</th>\n",
       "      <th>Frozen</th>\n",
       "      <th>Detergents_Paper</th>\n",
       "      <th>Delicassen</th>\n",
       "    </tr>\n",
       "  </thead>\n",
       "  <tbody>\n",
       "    <tr>\n",
       "      <th>0</th>\n",
       "      <td>2</td>\n",
       "      <td>3</td>\n",
       "      <td>12669</td>\n",
       "      <td>9656</td>\n",
       "      <td>7561</td>\n",
       "      <td>214</td>\n",
       "      <td>2674</td>\n",
       "      <td>1338</td>\n",
       "    </tr>\n",
       "    <tr>\n",
       "      <th>1</th>\n",
       "      <td>2</td>\n",
       "      <td>3</td>\n",
       "      <td>7057</td>\n",
       "      <td>9810</td>\n",
       "      <td>9568</td>\n",
       "      <td>1762</td>\n",
       "      <td>3293</td>\n",
       "      <td>1776</td>\n",
       "    </tr>\n",
       "    <tr>\n",
       "      <th>2</th>\n",
       "      <td>2</td>\n",
       "      <td>3</td>\n",
       "      <td>6353</td>\n",
       "      <td>8808</td>\n",
       "      <td>7684</td>\n",
       "      <td>2405</td>\n",
       "      <td>3516</td>\n",
       "      <td>7844</td>\n",
       "    </tr>\n",
       "    <tr>\n",
       "      <th>3</th>\n",
       "      <td>1</td>\n",
       "      <td>3</td>\n",
       "      <td>13265</td>\n",
       "      <td>1196</td>\n",
       "      <td>4221</td>\n",
       "      <td>6404</td>\n",
       "      <td>507</td>\n",
       "      <td>1788</td>\n",
       "    </tr>\n",
       "    <tr>\n",
       "      <th>4</th>\n",
       "      <td>2</td>\n",
       "      <td>3</td>\n",
       "      <td>22615</td>\n",
       "      <td>5410</td>\n",
       "      <td>7198</td>\n",
       "      <td>3915</td>\n",
       "      <td>1777</td>\n",
       "      <td>5185</td>\n",
       "    </tr>\n",
       "  </tbody>\n",
       "</table>\n",
       "</div>"
      ],
      "text/plain": [
       "   Channel  Region  Fresh  Milk  Grocery  Frozen  Detergents_Paper  Delicassen\n",
       "0        2       3  12669  9656     7561     214              2674        1338\n",
       "1        2       3   7057  9810     9568    1762              3293        1776\n",
       "2        2       3   6353  8808     7684    2405              3516        7844\n",
       "3        1       3  13265  1196     4221    6404               507        1788\n",
       "4        2       3  22615  5410     7198    3915              1777        5185"
      ]
     },
     "execution_count": 34,
     "metadata": {},
     "output_type": "execute_result"
    }
   ],
   "source": [
    "customers = pd.read_csv(\"~/Downloads/wholesale-customers.csv\",  delimiter=',')\n",
    "customers.head()"
   ]
  },
  {
   "cell_type": "code",
   "execution_count": 35,
   "metadata": {},
   "outputs": [],
   "source": [
    "# Predata processing: Specify the predictors, X, and a single response variable, y.\n",
    "y = customers['Channel']\n",
    "X = customers.iloc[:, 2:8]"
   ]
  },
  {
   "cell_type": "code",
   "execution_count": 36,
   "metadata": {},
   "outputs": [
    {
     "data": {
      "text/html": [
       "<div>\n",
       "<style scoped>\n",
       "    .dataframe tbody tr th:only-of-type {\n",
       "        vertical-align: middle;\n",
       "    }\n",
       "\n",
       "    .dataframe tbody tr th {\n",
       "        vertical-align: top;\n",
       "    }\n",
       "\n",
       "    .dataframe thead th {\n",
       "        text-align: right;\n",
       "    }\n",
       "</style>\n",
       "<table border=\"1\" class=\"dataframe\">\n",
       "  <thead>\n",
       "    <tr style=\"text-align: right;\">\n",
       "      <th></th>\n",
       "      <th>Fresh</th>\n",
       "      <th>Milk</th>\n",
       "      <th>Grocery</th>\n",
       "      <th>Frozen</th>\n",
       "      <th>Detergents_Paper</th>\n",
       "      <th>Delicassen</th>\n",
       "    </tr>\n",
       "  </thead>\n",
       "  <tbody>\n",
       "    <tr>\n",
       "      <th>0</th>\n",
       "      <td>12669</td>\n",
       "      <td>9656</td>\n",
       "      <td>7561</td>\n",
       "      <td>214</td>\n",
       "      <td>2674</td>\n",
       "      <td>1338</td>\n",
       "    </tr>\n",
       "    <tr>\n",
       "      <th>1</th>\n",
       "      <td>7057</td>\n",
       "      <td>9810</td>\n",
       "      <td>9568</td>\n",
       "      <td>1762</td>\n",
       "      <td>3293</td>\n",
       "      <td>1776</td>\n",
       "    </tr>\n",
       "    <tr>\n",
       "      <th>2</th>\n",
       "      <td>6353</td>\n",
       "      <td>8808</td>\n",
       "      <td>7684</td>\n",
       "      <td>2405</td>\n",
       "      <td>3516</td>\n",
       "      <td>7844</td>\n",
       "    </tr>\n",
       "    <tr>\n",
       "      <th>3</th>\n",
       "      <td>13265</td>\n",
       "      <td>1196</td>\n",
       "      <td>4221</td>\n",
       "      <td>6404</td>\n",
       "      <td>507</td>\n",
       "      <td>1788</td>\n",
       "    </tr>\n",
       "    <tr>\n",
       "      <th>4</th>\n",
       "      <td>22615</td>\n",
       "      <td>5410</td>\n",
       "      <td>7198</td>\n",
       "      <td>3915</td>\n",
       "      <td>1777</td>\n",
       "      <td>5185</td>\n",
       "    </tr>\n",
       "  </tbody>\n",
       "</table>\n",
       "</div>"
      ],
      "text/plain": [
       "   Fresh  Milk  Grocery  Frozen  Detergents_Paper  Delicassen\n",
       "0  12669  9656     7561     214              2674        1338\n",
       "1   7057  9810     9568    1762              3293        1776\n",
       "2   6353  8808     7684    2405              3516        7844\n",
       "3  13265  1196     4221    6404               507        1788\n",
       "4  22615  5410     7198    3915              1777        5185"
      ]
     },
     "execution_count": 36,
     "metadata": {},
     "output_type": "execute_result"
    }
   ],
   "source": [
    "X.head()"
   ]
  },
  {
   "cell_type": "code",
   "execution_count": 37,
   "metadata": {},
   "outputs": [],
   "source": [
    "# Convert int object to float for later feature scaling\n",
    "X = X.astype(np.float64)"
   ]
  },
  {
   "cell_type": "code",
   "execution_count": 38,
   "metadata": {},
   "outputs": [
    {
     "data": {
      "text/plain": [
       "0    2\n",
       "1    2\n",
       "2    2\n",
       "3    1\n",
       "4    2\n",
       "Name: Channel, dtype: int64"
      ]
     },
     "execution_count": 38,
     "metadata": {},
     "output_type": "execute_result"
    }
   ],
   "source": [
    "y.head()"
   ]
  },
  {
   "cell_type": "markdown",
   "metadata": {},
   "source": [
    "<font size=\"4\">1. Linear SVM</font>"
   ]
  },
  {
   "cell_type": "code",
   "execution_count": 39,
   "metadata": {},
   "outputs": [],
   "source": [
    "# don't do the train-test split for SVM, otherwise same."
   ]
  },
  {
   "cell_type": "code",
   "execution_count": 40,
   "metadata": {},
   "outputs": [
    {
     "data": {
      "text/plain": [
       "[0.29772727272727273,\n",
       " 0.14545454545454545,\n",
       " 0.10227272727272727,\n",
       " 0.09772727272727273,\n",
       " 0.09772727272727273,\n",
       " 0.09772727272727273]"
      ]
     },
     "execution_count": 40,
     "metadata": {},
     "output_type": "execute_result"
    }
   ],
   "source": [
    "# Set different values of tuning parameters to be tested\n",
    "alpha_linearsvm = [1e-3, 1e-2, 1e-1, 1, 10, 100]\n",
    "\n",
    "# Use k-fold cross-validation to select the best tuning parameter\n",
    "k = 5\n",
    "kf = KFold(n_splits=k)\n",
    "linearsvm_cv_errors = []\n",
    "sc_X = StandardScaler()\n",
    "for alpha in alpha_linearsvm:\n",
    "    linearsvm_cv_error = 0\n",
    "    clf = svm.SVC(C=alpha, kernel='linear', tol=1e-5, max_iter=1000000)\n",
    "    for train_index, test_index in kf.split(X):\n",
    "        X_train, X_test = X.iloc[train_index], X.iloc[test_index]\n",
    "        y_train, y_test = y[train_index], y[test_index]\n",
    "        # Feature Scaling\n",
    "        X_train = sc_X.fit_transform(X_train)\n",
    "        X_test = sc_X.transform(X_test)\n",
    "        clf.fit(X_train, y_train)\n",
    "        y_pred = clf.predict(X_test)\n",
    "        linearsvm_cv_error += mean_squared_error(y_pred, y_test)\n",
    "    linearsvm_cv_errors.append(linearsvm_cv_error/k)\n",
    "linearsvm_cv_errors"
   ]
  },
  {
   "cell_type": "code",
   "execution_count": 41,
   "metadata": {},
   "outputs": [
    {
     "data": {
      "image/png": "[encoded data removed]",
      "text/plain": [
       "<Figure size 432x288 with 1 Axes>"
      ]
     },
     "metadata": {
      "needs_background": "light"
     },
     "output_type": "display_data"
    }
   ],
   "source": [
    "# Plot of tuning parameters vs cross validation error\n",
    "plt.figure()\n",
    "plt.xlabel(\"log tuning parameter\")\n",
    "plt.ylabel('cross validation error')\n",
    "plt.plot(np.log10(alpha_linearsvm), linearsvm_cv_errors)\n",
    "plt.title(\"log tuning parameter vs cross validation error for linear SVM\")\n",
    "plt.show()"
   ]
  },
  {
   "cell_type": "code",
   "execution_count": 42,
   "metadata": {},
   "outputs": [
    {
     "name": "stdout",
     "output_type": "stream",
     "text": [
      "Mininum corss-validation error is 0.09772727272727273\n"
     ]
    }
   ],
   "source": [
    "min_error = min(linearsvm_cv_errors)\n",
    "print(\"Mininum corss-validation error is \" + str(min_error))"
   ]
  },
  {
   "cell_type": "code",
   "execution_count": 43,
   "metadata": {},
   "outputs": [
    {
     "data": {
      "text/plain": [
       "1"
      ]
     },
     "execution_count": 43,
     "metadata": {},
     "output_type": "execute_result"
    }
   ],
   "source": [
    "# best tuning parameter alpha that minimizes error\n",
    "linearsvm_alpha_star = alpha_linearsvm[linearsvm_cv_errors.index(min(linearsvm_cv_errors))]\n",
    "linearsvm_alpha_star"
   ]
  },
  {
   "cell_type": "code",
   "execution_count": 44,
   "metadata": {},
   "outputs": [
    {
     "data": {
      "text/plain": [
       "array([[ 0.03656086,  0.21870077,  0.53163381, -0.40728466,  2.42933436,\n",
       "        -0.15346411]])"
      ]
     },
     "execution_count": 44,
     "metadata": {},
     "output_type": "execute_result"
    }
   ],
   "source": [
    "# coefficients of the linear svm model\n",
    "sc_X = StandardScaler()\n",
    "X_standard = sc_X.fit_transform(X)\n",
    "clf = svm.SVC(C = linearsvm_alpha_star, kernel='linear', tol=1e-5, max_iter=1000000).fit(X_standard, y)\n",
    "clf.coef_"
   ]
  },
  {
   "cell_type": "code",
   "execution_count": 45,
   "metadata": {},
   "outputs": [
    {
     "data": {
      "text/plain": [
       "{'Fresh': 0.036560855748344334,\n",
       " 'Milk': 0.21870077212003913,\n",
       " 'Grocery': 0.5316338100176379,\n",
       " 'Frozen': -0.4072846560315776,\n",
       " 'Detergents_Paper': 2.429334362272093,\n",
       " 'Delicassen': -0.15346410834679586}"
      ]
     },
     "execution_count": 45,
     "metadata": {},
     "output_type": "execute_result"
    }
   ],
   "source": [
    "# Coefficients of the linear svm related to features\n",
    "linearsvm_coefficients = {}\n",
    "for i in range(len(X.columns)):\n",
    "    linearsvm_coefficients[X.columns[i]] = clf.coef_[0][i]\n",
    "linearsvm_coefficients"
   ]
  },
  {
   "cell_type": "code",
   "execution_count": 46,
   "metadata": {},
   "outputs": [
    {
     "data": {
      "text/plain": [
       "array([-0.07388778])"
      ]
     },
     "execution_count": 46,
     "metadata": {},
     "output_type": "execute_result"
    }
   ],
   "source": [
    "clf.intercept_"
   ]
  },
  {
   "cell_type": "code",
   "execution_count": 47,
   "metadata": {},
   "outputs": [
    {
     "data": {
      "text/plain": [
       "0.9090909090909091"
      ]
     },
     "execution_count": 47,
     "metadata": {},
     "output_type": "execute_result"
    }
   ],
   "source": [
    "clf.score(X_standard, y)"
   ]
  },
  {
   "cell_type": "markdown",
   "metadata": {},
   "source": [
    "<font size=\"4\">2. SVM with Polynomial Kernel</font>"
   ]
  },
  {
   "cell_type": "code",
   "execution_count": 67,
   "metadata": {},
   "outputs": [
    {
     "data": {
      "text/plain": [
       "[0.2909090909090909,\n",
       " 0.24545454545454545,\n",
       " 0.19545454545454544,\n",
       " 0.15227272727272728,\n",
       " 0.14772727272727276,\n",
       " 0.1318181818181818,\n",
       " 0.1431818181818182]"
      ]
     },
     "execution_count": 67,
     "metadata": {},
     "output_type": "execute_result"
    }
   ],
   "source": [
    "# Set different values of tuning parameters to be tested\n",
    "alpha_polysvm = [1e-2, 1e-1, 1, 10, 100, 1000, 10000]\n",
    "# degree????????\n",
    "\n",
    "# Use k-fold cross-validation to select the best tuning parameter\n",
    "k = 5\n",
    "kf = KFold(n_splits=k)\n",
    "polysvm_cv_errors = []\n",
    "sc_X = StandardScaler()\n",
    "for alpha in alpha_polysvm:\n",
    "    polysvm_cv_error = 0\n",
    "    clf = svm.SVC(C=alpha, kernel='poly', tol=1e-5, max_iter=1000000)\n",
    "    for train_index, test_index in kf.split(X):\n",
    "        X_train, X_test = X.iloc[train_index], X.iloc[test_index]\n",
    "        y_train, y_test = y[train_index], y[test_index]\n",
    "        # Feature Scaling\n",
    "        X_train = sc_X.fit_transform(X_train)\n",
    "        X_test = sc_X.transform(X_test)\n",
    "        \n",
    "        clf.fit(X_train, y_train)\n",
    "        y_pred = clf.predict(X_test)\n",
    "        polysvm_cv_error += mean_squared_error(y_pred, y_test)\n",
    "    polysvm_cv_errors.append(polysvm_cv_error/k)\n",
    "polysvm_cv_errors"
   ]
  },
  {
   "cell_type": "code",
   "execution_count": 68,
   "metadata": {},
   "outputs": [
    {
     "data": {
      "image/png": "[encoded data removed]",
      "text/plain": [
       "<Figure size 432x288 with 1 Axes>"
      ]
     },
     "metadata": {
      "needs_background": "light"
     },
     "output_type": "display_data"
    }
   ],
   "source": [
    "# Plot of tuning parameters vs cross validation error\n",
    "plt.figure()\n",
    "plt.xlabel(\"log tuning parameter\")\n",
    "plt.ylabel('cross validation error')\n",
    "plt.plot(np.log10(alpha_polysvm), polysvm_cv_errors)\n",
    "plt.title(\"log tuning parameter vs cross validation error for polynomial kernel SVM\")\n",
    "plt.show()"
   ]
  },
  {
   "cell_type": "code",
   "execution_count": 69,
   "metadata": {},
   "outputs": [
    {
     "name": "stdout",
     "output_type": "stream",
     "text": [
      "Mininum corss-validation error is 0.1318181818181818\n"
     ]
    }
   ],
   "source": [
    "min_error = min(polysvm_cv_errors)\n",
    "print(\"Mininum corss-validation error is \" + str(min_error))"
   ]
  },
  {
   "cell_type": "code",
   "execution_count": 70,
   "metadata": {},
   "outputs": [
    {
     "data": {
      "text/plain": [
       "1000"
      ]
     },
     "execution_count": 70,
     "metadata": {},
     "output_type": "execute_result"
    }
   ],
   "source": [
    "# best tuning parameter alpha that minimizes error\n",
    "polysvm_alpha_star = alpha_polysvm[polysvm_cv_errors.index(min(polysvm_cv_errors))]\n",
    "polysvm_alpha_star"
   ]
  },
  {
   "cell_type": "code",
   "execution_count": 71,
   "metadata": {},
   "outputs": [
    {
     "data": {
      "text/plain": [
       "array([-1.71142577])"
      ]
     },
     "execution_count": 71,
     "metadata": {},
     "output_type": "execute_result"
    }
   ],
   "source": [
    "# intercept of SVM with polynomial kernel\n",
    "sc_X = StandardScaler()\n",
    "X_standard = sc_X.fit_transform(X)\n",
    "polyclf = svm.SVC(C = polysvm_alpha_star, tol=1e-5, max_iter=1000000).fit(X_standard, y)\n",
    "polyclf.intercept_"
   ]
  },
  {
   "cell_type": "code",
   "execution_count": 72,
   "metadata": {},
   "outputs": [
    {
     "data": {
      "text/plain": [
       "0.9727272727272728"
      ]
     },
     "execution_count": 72,
     "metadata": {},
     "output_type": "execute_result"
    }
   ],
   "source": [
    "polyclf.score(X_standard, y)"
   ]
  },
  {
   "cell_type": "markdown",
   "metadata": {},
   "source": [
    "<font size=\"4\">3. SVM with Gaussian Kernel</font>"
   ]
  },
  {
   "cell_type": "code",
   "execution_count": 54,
   "metadata": {},
   "outputs": [
    {
     "data": {
      "text/plain": [
       "[0.3227272727272727,\n",
       " 0.3227272727272727,\n",
       " 0.1272727272727273,\n",
       " 0.08636363636363638,\n",
       " 0.08863636363636364,\n",
       " 0.15227272727272725]"
      ]
     },
     "execution_count": 54,
     "metadata": {},
     "output_type": "execute_result"
    }
   ],
   "source": [
    "# Set different values of tuning parameters to be tested\n",
    "alpha_gaussiansvm = [1e-3, 1e-2, 1e-1, 1, 10, 1000]\n",
    "\n",
    "# Use k-fold cross-validation to select the best tuning parameter\n",
    "k = 5\n",
    "kf = KFold(n_splits=k)\n",
    "gaussiansvm_cv_errors = []\n",
    "sc_X = StandardScaler()\n",
    "for alpha in alpha_gaussiansvm:\n",
    "    gaussiansvm_cv_error = 0\n",
    "    clf = svm.SVC(C=alpha, kernel='rbf', tol=1e-5, max_iter=100000)\n",
    "    for train_index, test_index in kf.split(X):\n",
    "        X_train, X_test = X.iloc[train_index], X.iloc[test_index]\n",
    "        y_train, y_test = y[train_index], y[test_index]\n",
    "        # Feature Scaling\n",
    "        X_train = sc_X.fit_transform(X_train)\n",
    "        X_test = sc_X.transform(X_test)\n",
    "        \n",
    "        clf.fit(X_train, y_train)\n",
    "        y_pred = clf.predict(X_test)\n",
    "        gaussiansvm_cv_error += mean_squared_error(y_pred, y_test)\n",
    "    gaussiansvm_cv_errors.append(gaussiansvm_cv_error/k)\n",
    "gaussiansvm_cv_errors"
   ]
  },
  {
   "cell_type": "code",
   "execution_count": 55,
   "metadata": {},
   "outputs": [
    {
     "data": {
      "image/png": "[encoded data removed]",
      "text/plain": [
       "<Figure size 432x288 with 1 Axes>"
      ]
     },
     "metadata": {
      "needs_background": "light"
     },
     "output_type": "display_data"
    }
   ],
   "source": [
    "# Plot of tuning parameters vs cross validation error\n",
    "plt.figure()\n",
    "plt.xlabel(\"log tuning parameter\")\n",
    "plt.ylabel('cross validation error')\n",
    "plt.plot(np.log10(alpha_gaussiansvm), gaussiansvm_cv_errors)\n",
    "plt.title(\"log tuning parameter vs cross validation error for gaussian kernel SVM\")\n",
    "plt.show()"
   ]
  },
  {
   "cell_type": "code",
   "execution_count": 56,
   "metadata": {},
   "outputs": [
    {
     "name": "stdout",
     "output_type": "stream",
     "text": [
      "Mininum corss-validation error is 0.08636363636363638\n"
     ]
    }
   ],
   "source": [
    "min_error = min(gaussiansvm_cv_errors)\n",
    "print(\"Mininum corss-validation error is \" + str(min_error))"
   ]
  },
  {
   "cell_type": "code",
   "execution_count": 57,
   "metadata": {},
   "outputs": [
    {
     "data": {
      "text/plain": [
       "1"
      ]
     },
     "execution_count": 57,
     "metadata": {},
     "output_type": "execute_result"
    }
   ],
   "source": [
    "# best tuning parameter alpha that minimizes error\n",
    "gaussiansvm_alpha_star = alpha_gaussiansvm[gaussiansvm_cv_errors.index(min(gaussiansvm_cv_errors))]\n",
    "gaussiansvm_alpha_star"
   ]
  },
  {
   "cell_type": "code",
   "execution_count": 58,
   "metadata": {},
   "outputs": [
    {
     "data": {
      "text/plain": [
       "array([-0.18586792])"
      ]
     },
     "execution_count": 58,
     "metadata": {},
     "output_type": "execute_result"
    }
   ],
   "source": [
    "# intercept of SVM with polynomial kernel\n",
    "sc_X = StandardScaler()\n",
    "X_standard = sc_X.fit_transform(X)\n",
    "gaussianclf = svm.SVC(C = gaussiansvm_alpha_star, tol=1e-5, max_iter=1000000).fit(X_standard, y)\n",
    "gaussianclf.intercept_"
   ]
  },
  {
   "cell_type": "code",
   "execution_count": 59,
   "metadata": {},
   "outputs": [
    {
     "data": {
      "text/plain": [
       "0.9340909090909091"
      ]
     },
     "execution_count": 59,
     "metadata": {},
     "output_type": "execute_result"
    }
   ],
   "source": [
    "gaussianclf.score(X_standard, y)"
   ]
  },
  {
   "cell_type": "code",
   "execution_count": null,
   "metadata": {},
   "outputs": [],
   "source": [
    "# Confusions:\n",
    "# no cross validation for OLS?\n",
    "# should we use C, the penalty parameter for tuning in svm.SVC?   For polynomial, there is the degree parameter and also the gamma."
   ]
  }
 ],
 "metadata": {
  "kernelspec": {
   "display_name": "Python 3",
   "language": "python",
   "name": "python3"
  },
  "language_info": {
   "codemirror_mode": {
    "name": "ipython",
    "version": 3
   },
   "file_extension": ".py",
   "mimetype": "text/x-python",
   "name": "python",
   "nbconvert_exporter": "python",
   "pygments_lexer": "ipython3",
   "version": "3.7.3"
  }
 },
 "nbformat": 4,
 "nbformat_minor": 2
}
